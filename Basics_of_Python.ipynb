{
  "cells": [
    {
      "cell_type": "markdown",
      "metadata": {
        "id": "view-in-github",
        "colab_type": "text"
      },
      "source": [
        "<a href=\"https://colab.research.google.com/github/Bhavika-30/Assignment-Basics_of_Python/blob/main/Basics_of_Python.ipynb\" target=\"_parent\"><img src=\"https://colab.research.google.com/assets/colab-badge.svg\" alt=\"Open In Colab\"/></a>"
      ]
    },
    {
      "cell_type": "markdown",
      "source": [
        "---\n",
        "# **Q1. L is a list defined as L= [11, 12, 13, 14].**\n",
        "---\n",
        "### **(i) WAP to add 50 and 60 to L.**"
      ],
      "metadata": {
        "id": "z9-0dA9Qpj5b"
      },
      "id": "z9-0dA9Qpj5b"
    },
    {
      "cell_type": "code",
      "execution_count": 1,
      "id": "e8e8826e",
      "metadata": {
        "id": "e8e8826e",
        "outputId": "b030015c-d0ff-4a2b-dba5-fb49ddd92615",
        "colab": {
          "base_uri": "https://localhost:8080/"
        }
      },
      "outputs": [
        {
          "output_type": "stream",
          "name": "stdout",
          "text": [
            "Original list: [11, 12, 13, 14]\n",
            "List after adding: [11, 12, 13, 14, 50, 60]\n"
          ]
        }
      ],
      "source": [
        "L=[11,12,13,14]\n",
        "print (\"Original list:\", L)\n",
        "L.append(50)\n",
        "L.append(60)\n",
        "print (\"List after adding:\", L)"
      ]
    },
    {
      "cell_type": "markdown",
      "source": [
        "---\n",
        "### **(ii) WAP to remove 11 and 13 from L.**\n",
        "---"
      ],
      "metadata": {
        "id": "91xmnb5Gqj5Q"
      },
      "id": "91xmnb5Gqj5Q"
    },
    {
      "cell_type": "code",
      "execution_count": 3,
      "id": "bdbc0981",
      "metadata": {
        "id": "bdbc0981",
        "outputId": "065d44e0-09a1-41f4-ba1d-70d361720f63",
        "colab": {
          "base_uri": "https://localhost:8080/"
        }
      },
      "outputs": [
        {
          "output_type": "stream",
          "name": "stdout",
          "text": [
            "Original list: [11, 12, 13, 14]\n",
            "List after deleting 11: [12, 13, 14]\n",
            "List after deleting: [12, 14]\n"
          ]
        }
      ],
      "source": [
        "L=[11,12,13,14]\n",
        "print (\"Original list:\", L)\n",
        "del L[0]\n",
        "print (\"List after deleting 11:\", L)\n",
        "del L[1]\n",
        "print (\"List after deleting:\", L)"
      ]
    },
    {
      "cell_type": "markdown",
      "source": [
        "---\n",
        "### **(iii) WAP to sort L in ascending order.**\n",
        "---"
      ],
      "metadata": {
        "id": "yjAR1E00rPe1"
      },
      "id": "yjAR1E00rPe1"
    },
    {
      "cell_type": "code",
      "execution_count": 5,
      "id": "bf21f772",
      "metadata": {
        "id": "bf21f772",
        "outputId": "27eb653f-bb1b-4d0d-807d-8b0dd9d9dfdb",
        "colab": {
          "base_uri": "https://localhost:8080/"
        }
      },
      "outputs": [
        {
          "output_type": "stream",
          "name": "stdout",
          "text": [
            "Before sorting: [11, 12, 13, 14]\n",
            "After sort Ascending: [11, 12, 13, 14]\n"
          ]
        }
      ],
      "source": [
        "L=[11,12,13,14]\n",
        "print (\"Before sorting:\", L)\n",
        "L.sort()\n",
        "print (\"After sort Ascending:\", L)"
      ]
    },
    {
      "cell_type": "markdown",
      "source": [
        "---\n",
        "### **(iv) WAP to sort L in descending order.**\n",
        "---"
      ],
      "metadata": {
        "id": "HCEnHxier35l"
      },
      "id": "HCEnHxier35l"
    },
    {
      "cell_type": "code",
      "execution_count": 6,
      "id": "4b03145b",
      "metadata": {
        "id": "4b03145b",
        "outputId": "ce6dcd93-d0fb-439c-86ea-03e677f4a028",
        "colab": {
          "base_uri": "https://localhost:8080/"
        }
      },
      "outputs": [
        {
          "output_type": "stream",
          "name": "stdout",
          "text": [
            "Before sorting: [11, 12, 13, 14]\n",
            "After sort Descending: [14, 13, 12, 11]\n"
          ]
        }
      ],
      "source": [
        "L=[11,12,13,14]\n",
        "print (\"Before sorting:\", L)\n",
        "L.sort(reverse=True)\n",
        "print (\"After sort Descending:\", L)"
      ]
    },
    {
      "cell_type": "markdown",
      "source": [
        "---\n",
        "### **(v) WAP to search for 13 in L.**\n",
        "---"
      ],
      "metadata": {
        "id": "2hhrD2i-sY6i"
      },
      "id": "2hhrD2i-sY6i"
    },
    {
      "cell_type": "code",
      "execution_count": 7,
      "id": "12c64e52",
      "metadata": {
        "id": "12c64e52",
        "outputId": "03daac13-261b-431c-9d51-657c9d887f18",
        "colab": {
          "base_uri": "https://localhost:8080/"
        }
      },
      "outputs": [
        {
          "output_type": "stream",
          "name": "stdout",
          "text": [
            "Original list: True\n",
            "Present\n"
          ]
        }
      ],
      "source": [
        "L=[11,12,13,14]\n",
        "print (\"Original list:\", 13 in L)\n",
        "if (13 in L)== True:\n",
        "    print (\"Present\")\n",
        "else:\n",
        "    print (\"Not present\")"
      ]
    },
    {
      "cell_type": "markdown",
      "source": [
        "---\n",
        "### **(vi) WAP to count the number of elements present in L.**\n",
        "---"
      ],
      "metadata": {
        "id": "CtM4gxGFssqq"
      },
      "id": "CtM4gxGFssqq"
    },
    {
      "cell_type": "code",
      "execution_count": 8,
      "id": "0e239b5a",
      "metadata": {
        "id": "0e239b5a",
        "outputId": "c40baada-4716-43a4-830e-a85cf2abc3ac",
        "colab": {
          "base_uri": "https://localhost:8080/"
        }
      },
      "outputs": [
        {
          "output_type": "stream",
          "name": "stdout",
          "text": [
            "Original list: [11, 12, 13, 14]\n",
            "Number of elements in list: 4\n"
          ]
        }
      ],
      "source": [
        "L=[11,12,13,14]\n",
        "print (\"Original list:\", L)\n",
        "print (\"Number of elements in list:\", len(L))"
      ]
    },
    {
      "cell_type": "markdown",
      "source": [
        "---\n",
        "### **(vii) WAP to sum all the elements in L.**\n",
        "---"
      ],
      "metadata": {
        "id": "jQAn9qNmtHQh"
      },
      "id": "jQAn9qNmtHQh"
    },
    {
      "cell_type": "code",
      "execution_count": 9,
      "id": "9457bf89",
      "metadata": {
        "id": "9457bf89",
        "outputId": "df191449-6486-4a06-d724-c1eefe6299a6",
        "colab": {
          "base_uri": "https://localhost:8080/"
        }
      },
      "outputs": [
        {
          "output_type": "stream",
          "name": "stdout",
          "text": [
            "Original list: [11, 12, 13, 14]\n",
            "Sum: 50\n"
          ]
        }
      ],
      "source": [
        "L=[11,12,13,14]\n",
        "print (\"Original list:\", L)\n",
        "print (\"Sum:\", sum(L))"
      ]
    },
    {
      "cell_type": "markdown",
      "source": [
        "---\n",
        "### **(viii) WAP to sum all ODD numbers in L.**\n",
        "---"
      ],
      "metadata": {
        "id": "JgZlDiX2uSB4"
      },
      "id": "JgZlDiX2uSB4"
    },
    {
      "cell_type": "code",
      "execution_count": 10,
      "id": "4f3560b8",
      "metadata": {
        "id": "4f3560b8",
        "outputId": "48ba8fa1-d62e-41f0-aaf1-632b2e1bc4c7",
        "colab": {
          "base_uri": "https://localhost:8080/"
        }
      },
      "outputs": [
        {
          "output_type": "stream",
          "name": "stdout",
          "text": [
            "Sum of odd numbers: 24\n"
          ]
        }
      ],
      "source": [
        "L = [11, 12, 13, 14]\n",
        "odd_sum = sum(num for num in L if num % 2 != 0)\n",
        "print(\"Sum of odd numbers:\", odd_sum)"
      ]
    },
    {
      "cell_type": "markdown",
      "source": [
        "---\n",
        "### **(ix) WAP to sum all EVEN numbers in L.**\n",
        "---"
      ],
      "metadata": {
        "id": "Oi8wCbqpwpte"
      },
      "id": "Oi8wCbqpwpte"
    },
    {
      "cell_type": "code",
      "execution_count": 11,
      "id": "e23441f4",
      "metadata": {
        "id": "e23441f4",
        "outputId": "915bc242-45f4-45a3-e7ae-56cccf4d62de",
        "colab": {
          "base_uri": "https://localhost:8080/"
        }
      },
      "outputs": [
        {
          "output_type": "stream",
          "name": "stdout",
          "text": [
            "Sum of even numbers: 26\n"
          ]
        }
      ],
      "source": [
        "L = [11, 12, 13, 14]\n",
        "even_sum = sum(num for num in L if num % 2 == 0)\n",
        "print(\"Sum of even numbers:\", even_sum)"
      ]
    },
    {
      "cell_type": "markdown",
      "source": [
        "---\n",
        "### **(x) WAP to sum all PRIME numbers in L.**\n",
        "---"
      ],
      "metadata": {
        "id": "9WTdM9YGw2is"
      },
      "id": "9WTdM9YGw2is"
    },
    {
      "cell_type": "code",
      "execution_count": 13,
      "id": "56f5a3fd",
      "metadata": {
        "id": "56f5a3fd",
        "outputId": "34a386ba-93a8-40a4-985c-f3171a4c088d",
        "colab": {
          "base_uri": "https://localhost:8080/"
        }
      },
      "outputs": [
        {
          "output_type": "stream",
          "name": "stdout",
          "text": [
            "Sum of prime numbers: 24\n"
          ]
        }
      ],
      "source": [
        "def is_prime(number):\n",
        "    if number < 2:\n",
        "        return False\n",
        "    for i in range(2, int(number**0.5) + 1):\n",
        "        if number % i == 0:\n",
        "            return False\n",
        "    return True\n",
        "L = [11, 12, 13, 14]\n",
        "prime_sum = sum(num for num in L if is_prime(num))\n",
        "print(\"Sum of prime numbers:\", prime_sum)"
      ]
    },
    {
      "cell_type": "markdown",
      "source": [
        "---\n",
        "### **(xi) WAP to clear all the elements in L.**\n",
        "---"
      ],
      "metadata": {
        "id": "1BlD3Lo4xJFL"
      },
      "id": "1BlD3Lo4xJFL"
    },
    {
      "cell_type": "code",
      "execution_count": 14,
      "id": "2508f5ad",
      "metadata": {
        "id": "2508f5ad",
        "outputId": "6f8dfd37-9c32-491d-c033-593ee3843503",
        "colab": {
          "base_uri": "https://localhost:8080/"
        }
      },
      "outputs": [
        {
          "output_type": "stream",
          "name": "stdout",
          "text": [
            "List before clearing: [11, 12, 13, 14]\n",
            "List after clearing: []\n"
          ]
        }
      ],
      "source": [
        "L=[11,12,13,14]\n",
        "print (\"List before clearing:\", L)\n",
        "L.clear()\n",
        "print (\"List after clearing:\", L)"
      ]
    },
    {
      "cell_type": "markdown",
      "source": [
        "---\n",
        "### **(xii) WAP to delete L.**\n",
        "---"
      ],
      "metadata": {
        "id": "LEPK17yDxVur"
      },
      "id": "LEPK17yDxVur"
    },
    {
      "cell_type": "code",
      "execution_count": 17,
      "id": "b16d62e6",
      "metadata": {
        "id": "b16d62e6",
        "outputId": "14ffdaa4-4120-46a4-b34b-048e74bf064b",
        "colab": {
          "base_uri": "https://localhost:8080/"
        }
      },
      "outputs": [
        {
          "output_type": "stream",
          "name": "stdout",
          "text": [
            "Original list --> [11, 12, 13, 14]\n"
          ]
        }
      ],
      "source": [
        "L=[11,12,13,14]\n",
        "print (\"Original list -->\", L)\n",
        "del L"
      ]
    },
    {
      "cell_type": "markdown",
      "source": [
        "---\n",
        "# **Q2. D is a dictionary defined as D= {1:5.6, 2:7.8, 3:6.6, 4:8.7, 5:7.7}.**\n",
        "---\n",
        "### **(i) WAP to add new entry in D; key=8 and value is 8.8**\n",
        "\n"
      ],
      "metadata": {
        "id": "KofENE97xqnE"
      },
      "id": "KofENE97xqnE"
    },
    {
      "cell_type": "code",
      "execution_count": 19,
      "id": "215f3c63",
      "metadata": {
        "id": "215f3c63",
        "outputId": "940aeb60-5157-433e-91ea-013ef5398e52",
        "colab": {
          "base_uri": "https://localhost:8080/"
        }
      },
      "outputs": [
        {
          "output_type": "stream",
          "name": "stdout",
          "text": [
            "Original dictionary: {1: 5.6, 2: 7.8, 3: 6.6, 4: 8.7, 5: 7.7}\n",
            "After adding 8: {1: 5.6, 2: 7.8, 3: 6.6, 4: 8.7, 5: 7.7, 8: 8.8}\n"
          ]
        }
      ],
      "source": [
        "D={1:5.6,2:7.8,3:6.6,4:8.7,5:7.7}\n",
        "print (\"Original dictionary:\", D)\n",
        "D[8]=8.8\n",
        "print (\"After adding 8:\", D)"
      ]
    },
    {
      "cell_type": "markdown",
      "source": [
        "---\n",
        "### **(ii) WAP to remove key=2.**\n",
        "---"
      ],
      "metadata": {
        "id": "WRy8ZWL2yLd0"
      },
      "id": "WRy8ZWL2yLd0"
    },
    {
      "cell_type": "code",
      "execution_count": 20,
      "id": "ccb0e6fc",
      "metadata": {
        "id": "ccb0e6fc",
        "outputId": "d378b4f6-648c-4897-fc16-299496d72b78",
        "colab": {
          "base_uri": "https://localhost:8080/"
        }
      },
      "outputs": [
        {
          "output_type": "stream",
          "name": "stdout",
          "text": [
            "Original dictionary: {1: 5.6, 2: 7.8, 3: 6.6, 4: 8.7, 5: 7.7}\n",
            "After removing key 2: {1: 5.6, 3: 6.6, 4: 8.7, 5: 7.7}\n"
          ]
        }
      ],
      "source": [
        "D={1:5.6,2:7.8,3:6.6,4:8.7,5:7.7}\n",
        "print (\"Original dictionary:\", D)\n",
        "del D[2]\n",
        "print (\"After removing key 2:\", D)"
      ]
    },
    {
      "cell_type": "markdown",
      "source": [
        "---\n",
        "### **(iii) WAP to check weather 6 key is present in D.**\n",
        "---"
      ],
      "metadata": {
        "id": "boEjXHhQyzo2"
      },
      "id": "boEjXHhQyzo2"
    },
    {
      "cell_type": "code",
      "execution_count": 22,
      "id": "658923a1",
      "metadata": {
        "id": "658923a1",
        "outputId": "c379b00e-2219-40ef-9a5b-9305f54d2b3b",
        "colab": {
          "base_uri": "https://localhost:8080/"
        }
      },
      "outputs": [
        {
          "output_type": "stream",
          "name": "stdout",
          "text": [
            "Original dictionary: {1: 5.6, 2: 7.8, 3: 6.6, 4: 8.7, 5: 7.7}\n",
            "Is key 6 present: False\n"
          ]
        }
      ],
      "source": [
        "D={1:5.6,2:7.8,3:6.6,4:8.7,5:7.7}\n",
        "print (\"Original dictionary:\", D)\n",
        "print (\"Is key 6 present:\", 6 in D)"
      ]
    },
    {
      "cell_type": "markdown",
      "source": [
        "---\n",
        "### **(iv) WAP to count the number of elements present in D.**\n",
        "---"
      ],
      "metadata": {
        "id": "nVTBbMKLzQDp"
      },
      "id": "nVTBbMKLzQDp"
    },
    {
      "cell_type": "code",
      "execution_count": 23,
      "id": "2052f40e",
      "metadata": {
        "id": "2052f40e",
        "outputId": "2ed7b550-ce9a-4dca-f654-441ece37e8bd",
        "colab": {
          "base_uri": "https://localhost:8080/"
        }
      },
      "outputs": [
        {
          "output_type": "stream",
          "name": "stdout",
          "text": [
            "Original dictionary: {1: 5.6, 2: 7.8, 3: 6.6, 4: 8.7, 5: 7.7}\n",
            "No. of elements in D: 5\n"
          ]
        }
      ],
      "source": [
        "D={1:5.6,2:7.8,3:6.6,4:8.7,5:7.7}\n",
        "print (\"Original dictionary:\", D)\n",
        "print (\"No. of elements in D:\", len(D))"
      ]
    },
    {
      "cell_type": "markdown",
      "source": [
        "---\n",
        "### **(v) WAP to add all the values present D.**\n",
        "---"
      ],
      "metadata": {
        "id": "TTe5rMTVzjzO"
      },
      "id": "TTe5rMTVzjzO"
    },
    {
      "cell_type": "code",
      "execution_count": 24,
      "id": "5b915326",
      "metadata": {
        "id": "5b915326",
        "outputId": "e4024817-6bc7-4c7c-bccc-beb747e4774d",
        "colab": {
          "base_uri": "https://localhost:8080/"
        }
      },
      "outputs": [
        {
          "output_type": "stream",
          "name": "stdout",
          "text": [
            "Original dictionary: {1: 5.6, 2: 7.8, 3: 6.6, 4: 8.7, 5: 7.7}\n",
            "Sum of elements in D: 36.4\n"
          ]
        }
      ],
      "source": [
        "D={1:5.6,2:7.8,3:6.6,4:8.7,5:7.7}\n",
        "print (\"Original dictionary:\", D)\n",
        "print (\"Sum of elements in D:\", sum(list(D.values())))"
      ]
    },
    {
      "cell_type": "markdown",
      "source": [
        "---\n",
        "### **(vi) WAP to update the value of 3 to 7.1**\n",
        "---"
      ],
      "metadata": {
        "id": "sroygay5z11w"
      },
      "id": "sroygay5z11w"
    },
    {
      "cell_type": "code",
      "execution_count": 25,
      "id": "8df48874",
      "metadata": {
        "id": "8df48874",
        "outputId": "80e82cde-b67e-4927-b7ad-836c4377cdd7",
        "colab": {
          "base_uri": "https://localhost:8080/"
        }
      },
      "outputs": [
        {
          "output_type": "stream",
          "name": "stdout",
          "text": [
            "Original dictionary: {1: 5.6, 2: 7.8, 3: 6.6, 4: 8.7, 5: 7.7}\n",
            "After updating 3: {1: 5.6, 2: 7.8, 3: 7.1, 4: 8.7, 5: 7.7}\n"
          ]
        }
      ],
      "source": [
        "D={1:5.6,2:7.8,3:6.6,4:8.7,5:7.7}\n",
        "print (\"Original dictionary:\", D)\n",
        "D[3]=7.1\n",
        "print (\"After updating 3:\", D)"
      ]
    },
    {
      "cell_type": "markdown",
      "source": [
        "---\n",
        "### **(vii) WAP to clear the dictionary.**\n",
        "---"
      ],
      "metadata": {
        "id": "_xYV-K4c0S7m"
      },
      "id": "_xYV-K4c0S7m"
    },
    {
      "cell_type": "code",
      "execution_count": 26,
      "id": "5cb7c1f5",
      "metadata": {
        "id": "5cb7c1f5",
        "outputId": "61d4b145-2778-493f-c16c-f918ec3c2f98",
        "colab": {
          "base_uri": "https://localhost:8080/"
        }
      },
      "outputs": [
        {
          "output_type": "stream",
          "name": "stdout",
          "text": [
            "Original dictionary: {1: 5.6, 2: 7.8, 3: 6.6, 4: 8.7, 5: 7.7}\n",
            "After clear: {}\n"
          ]
        }
      ],
      "source": [
        "D={1:5.6,2:7.8,3:6.6,4:8.7,5:7.7}\n",
        "print (\"Original dictionary:\", D)\n",
        "D.clear()\n",
        "print (\"After clear:\", D)"
      ]
    },
    {
      "cell_type": "markdown",
      "source": [
        "---\n",
        "# **Q3. S1 is a set defined as S1= [10, 20, 30, 40, 50, 60].**\n",
        "  #   **S2 is a set defined as S2= [40, 50, 60, 70, 80, 90].**\n",
        "---\n",
        "### **(i) WAP to add 55 and 66 in Set S1.**"
      ],
      "metadata": {
        "id": "hI37Fkfe0i_d"
      },
      "id": "hI37Fkfe0i_d"
    },
    {
      "cell_type": "code",
      "execution_count": 27,
      "id": "4cf5a39d",
      "metadata": {
        "id": "4cf5a39d",
        "outputId": "2409b811-b206-47d6-b3d2-89fb83a67d84",
        "colab": {
          "base_uri": "https://localhost:8080/"
        }
      },
      "outputs": [
        {
          "output_type": "stream",
          "name": "stdout",
          "text": [
            "Original set S1: {40, 10, 50, 20, 60, 30}\n",
            "S1 after adding 55 and 66: {66, 40, 10, 50, 20, 55, 60, 30}\n"
          ]
        }
      ],
      "source": [
        "S1=set([10,20,30,40,50,60])\n",
        "print(\"Original set S1:\", S1)\n",
        "S1.add(55)\n",
        "S1.add(66)\n",
        "print (\"S1 after adding 55 and 66:\", S1)"
      ]
    },
    {
      "cell_type": "markdown",
      "source": [
        "---\n",
        "### **(ii) WAP to remove 10 and 30 from Set S1.**\n",
        "---"
      ],
      "metadata": {
        "id": "jNoaSZF52noj"
      },
      "id": "jNoaSZF52noj"
    },
    {
      "cell_type": "code",
      "execution_count": 28,
      "id": "a38317ec",
      "metadata": {
        "id": "a38317ec",
        "outputId": "04bcd617-4ac7-4e17-9a81-b5ae538cd394",
        "colab": {
          "base_uri": "https://localhost:8080/"
        }
      },
      "outputs": [
        {
          "output_type": "stream",
          "name": "stdout",
          "text": [
            "Original set S1 :  {40, 10, 50, 20, 60, 30}\n",
            "S1 after removing 10 and 30: {40, 50, 20, 60}\n"
          ]
        }
      ],
      "source": [
        "S1=set([10,20,30,40,50,60])\n",
        "print(\"Original set S1 : \", S1)\n",
        "S1.remove(10)\n",
        "S1.remove(30)\n",
        "print (\"S1 after removing 10 and 30:\", S1)"
      ]
    },
    {
      "cell_type": "markdown",
      "source": [
        "---\n",
        "### **(iii) WAP to check whether 40 is present in S1.**\n",
        "---"
      ],
      "metadata": {
        "id": "jGkHo77i29rG"
      },
      "id": "jGkHo77i29rG"
    },
    {
      "cell_type": "code",
      "execution_count": 29,
      "id": "9227f5d7",
      "metadata": {
        "id": "9227f5d7",
        "outputId": "651eadff-9ed2-43c2-b3cf-4f08af4cef07",
        "colab": {
          "base_uri": "https://localhost:8080/"
        }
      },
      "outputs": [
        {
          "output_type": "stream",
          "name": "stdout",
          "text": [
            "Original set S1: True\n",
            "Present\n"
          ]
        }
      ],
      "source": [
        "S1=set([10,20,30,40,50,60])\n",
        "print(\"Original set S1:\", 40 in S1)\n",
        "if (40 in S1)==True:\n",
        "    print (\"Present\")\n",
        "else:\n",
        "    print(\"Not present\")"
      ]
    },
    {
      "cell_type": "markdown",
      "source": [
        "---\n",
        "### **(iv) WAP to find the union between S1 and S2.**\n",
        "---"
      ],
      "metadata": {
        "id": "rbTZWa4V3NOB"
      },
      "id": "rbTZWa4V3NOB"
    },
    {
      "cell_type": "code",
      "execution_count": 30,
      "id": "1406c922",
      "metadata": {
        "id": "1406c922",
        "outputId": "0a7772be-2cc6-4f87-beef-847f8e016a04",
        "colab": {
          "base_uri": "https://localhost:8080/"
        }
      },
      "outputs": [
        {
          "output_type": "stream",
          "name": "stdout",
          "text": [
            "S1 union S2: {70, 40, 10, 80, 50, 20, 90, 60, 30}\n"
          ]
        }
      ],
      "source": [
        "S1=set([10,20,30,40,50,60])\n",
        "S2=set([40,50,60,70,80,90])\n",
        "print(\"S1 union S2:\", S1.union(S2))"
      ]
    },
    {
      "cell_type": "markdown",
      "source": [
        "---\n",
        "### **(v) WAP to find the intersection between S1 and S2.**\n",
        "---"
      ],
      "metadata": {
        "id": "1Fuv0nu93mjP"
      },
      "id": "1Fuv0nu93mjP"
    },
    {
      "cell_type": "code",
      "execution_count": 31,
      "id": "74f60425",
      "metadata": {
        "id": "74f60425",
        "outputId": "cc8750e4-3015-48cd-c1d4-ea70176d7f6f",
        "colab": {
          "base_uri": "https://localhost:8080/"
        }
      },
      "outputs": [
        {
          "output_type": "stream",
          "name": "stdout",
          "text": [
            "S1 intersection S2: {40, 50, 60}\n"
          ]
        }
      ],
      "source": [
        "S1=set([10,20,30,40,50,60])\n",
        "S2=set([40,50,60,70,80,90])\n",
        "print(\"S1 intersection S2:\", S1.intersection(S2))"
      ]
    },
    {
      "cell_type": "markdown",
      "source": [
        "---\n",
        "### **(vi) WAP to find the S1 - S2.**\n",
        "---"
      ],
      "metadata": {
        "id": "mtB28q8N3yqY"
      },
      "id": "mtB28q8N3yqY"
    },
    {
      "cell_type": "code",
      "execution_count": 32,
      "id": "96e37e5b",
      "metadata": {
        "id": "96e37e5b",
        "outputId": "3c547839-c91d-4499-9de2-16b74eb7ba6b",
        "colab": {
          "base_uri": "https://localhost:8080/"
        }
      },
      "outputs": [
        {
          "output_type": "stream",
          "name": "stdout",
          "text": [
            "S3: {10, 20, 30}\n"
          ]
        }
      ],
      "source": [
        "S1=set([10,20,30,40,50,60])\n",
        "S2=set([40,50,60,70,80,90])\n",
        "S3=S1-S2\n",
        "print(\"S3:\", S3)"
      ]
    },
    {
      "cell_type": "markdown",
      "source": [
        "---\n",
        "# **Q4. Write the following program.**\n",
        "---\n",
        "### **(i) WAP to print 100 random strings whose length between 6 and 8.**\n"
      ],
      "metadata": {
        "id": "rBvRzueh3-UP"
      },
      "id": "rBvRzueh3-UP"
    },
    {
      "cell_type": "code",
      "execution_count": 33,
      "id": "3a222d11",
      "metadata": {
        "id": "3a222d11",
        "outputId": "89f1779c-cdad-4bea-fba2-47750786a571",
        "colab": {
          "base_uri": "https://localhost:8080/"
        }
      },
      "outputs": [
        {
          "output_type": "stream",
          "name": "stdout",
          "text": [
            "oxddjfpj\n",
            "wvlgdvjc\n",
            "dcylzm\n",
            "tdeudv\n",
            "azsdpgtx\n",
            "frppfi\n",
            "njjhoihg\n",
            "abwpqqe\n",
            "xkfvzeh\n",
            "kqtecn\n",
            "qloyqehs\n",
            "nhecnvw\n",
            "ttnaqqtr\n",
            "zxrldqjh\n",
            "sezmubs\n",
            "ozlkxo\n",
            "vciqgrhw\n",
            "oqrujppg\n",
            "celfjm\n",
            "tsyohy\n",
            "efqjcf\n",
            "uytozl\n",
            "ooquyt\n",
            "cdixxgk\n",
            "xutooqoo\n",
            "rcxhgog\n",
            "lxxltfha\n",
            "nyuklstm\n",
            "enplwmxx\n",
            "fkbgvx\n",
            "vscxowc\n",
            "iurndp\n",
            "zzcycun\n",
            "liywzuwi\n",
            "ccutif\n",
            "qybpcepz\n",
            "lfzumaez\n",
            "aeeoeood\n",
            "fgteunh\n",
            "bmdgbjbw\n",
            "ijfasxd\n",
            "hmbszdxz\n",
            "ensdcg\n",
            "imhvhg\n",
            "spnvaft\n",
            "zfucpo\n",
            "decobk\n",
            "wloioj\n",
            "amyira\n",
            "vembtv\n",
            "yqpzix\n",
            "lvyvoyxr\n",
            "zdfzkwb\n",
            "aaoeoi\n",
            "lynepb\n",
            "skmqggj\n",
            "nnctgvc\n",
            "unmanyhp\n",
            "blhsxb\n",
            "updjpd\n",
            "bdwklv\n",
            "albmigm\n",
            "rmlkds\n",
            "bgochmy\n",
            "uzcczmrm\n",
            "mhjywpxz\n",
            "wrdgmce\n",
            "ifzrqgi\n",
            "xdeqsa\n",
            "obmqkjpx\n",
            "kldtegtr\n",
            "vfubjqk\n",
            "pnpfxq\n",
            "tbeluioq\n",
            "somszx\n",
            "jtzdvewg\n",
            "selqmyz\n",
            "vuxsxww\n",
            "vpbbzqsf\n",
            "iuytvm\n",
            "fkcakkh\n",
            "odylcfl\n",
            "bfhnmw\n",
            "ilfzefw\n",
            "ucadcyc\n",
            "aoyzruuq\n",
            "vyqthicq\n",
            "rshmsnqr\n",
            "tqqeevh\n",
            "fdxbyuhn\n",
            "fhkdtdyv\n",
            "yvsnjgen\n",
            "eurdhgpa\n",
            "rbbthpsw\n",
            "qqydkmkq\n",
            "uajvzf\n",
            "vatvcupb\n",
            "ebexzok\n",
            "rztykmgr\n",
            "sozjol\n"
          ]
        }
      ],
      "source": [
        "import random\n",
        "import string\n",
        "def generate_random_string(length):\n",
        "    letters = string.ascii_lowercase\n",
        "    return ''.join(random.choice(letters) for _ in range(length))\n",
        "def generate_random_strings(num_strings):\n",
        "    min_length = 6\n",
        "    max_length = 8\n",
        "    for _ in range(num_strings):\n",
        "        string_length = random.randint(min_length, max_length)\n",
        "        random_string = generate_random_string(string_length)\n",
        "        print(random_string)\n",
        "generate_random_strings(100)\n"
      ]
    },
    {
      "cell_type": "markdown",
      "source": [
        "---\n",
        "### **(ii) WAP to print all prime numbers between 600 and 800.**\n",
        "---"
      ],
      "metadata": {
        "id": "4pu_q5pi4lm8"
      },
      "id": "4pu_q5pi4lm8"
    },
    {
      "cell_type": "code",
      "execution_count": 34,
      "id": "ebdef173",
      "metadata": {
        "id": "ebdef173",
        "outputId": "79648721-7607-4192-e678-4deb7c48f864",
        "colab": {
          "base_uri": "https://localhost:8080/"
        }
      },
      "outputs": [
        {
          "output_type": "stream",
          "name": "stdout",
          "text": [
            "The prime numbers in this range are:  [601, 607, 613, 617, 619, 631, 641, 643, 647, 653, 659, 661, 673, 677, 683, 691, 701, 709, 719, 727, 733, 739, 743, 751, 757, 761, 769, 773, 787, 797]\n"
          ]
        }
      ],
      "source": [
        "def prime(x, y):\n",
        "    prime_list = []\n",
        "    for i in range(x, y):\n",
        "        if i == 0 or i == 1:\n",
        "            continue\n",
        "        else:\n",
        "            for j in range(2, int(i/2)+1):\n",
        "                if i % j == 0:\n",
        "                    break\n",
        "            else:\n",
        "                prime_list.append(i)\n",
        "    return prime_list\n",
        "starting_range = 600\n",
        "ending_range = 800\n",
        "lst = prime(starting_range, ending_range)\n",
        "if len(lst) == 0:\n",
        "    print(\"There are no prime numbers in this range\")\n",
        "else:\n",
        "    print(\"The prime numbers in this range are: \", lst)"
      ]
    },
    {
      "cell_type": "markdown",
      "source": [
        "---\n",
        "### **(iii) WAP to print all numbers between 100 and 1000 that are divisible by 7 and 9.**\n",
        "---"
      ],
      "metadata": {
        "id": "61Z7WlIv69zU"
      },
      "id": "61Z7WlIv69zU"
    },
    {
      "cell_type": "code",
      "execution_count": 35,
      "id": "06f88327",
      "metadata": {
        "id": "06f88327",
        "outputId": "3e8bec16-10f5-4d9f-93a6-7aa332ddae90",
        "colab": {
          "base_uri": "https://localhost:8080/"
        }
      },
      "outputs": [
        {
          "output_type": "stream",
          "name": "stdout",
          "text": [
            "126\n",
            "189\n",
            "252\n",
            "315\n",
            "378\n",
            "441\n",
            "504\n",
            "567\n",
            "630\n",
            "693\n",
            "756\n",
            "819\n",
            "882\n",
            "945\n"
          ]
        }
      ],
      "source": [
        "def print_numbers_divisible_by_7_and_9():\n",
        "    for num in range(100, 1001):\n",
        "        if num % 7 == 0 and num % 9 == 0:\n",
        "            print(num)\n",
        "print_numbers_divisible_by_7_and_9()"
      ]
    },
    {
      "cell_type": "markdown",
      "source": [
        "---\n",
        "# **Q5. WAP to create two lists of 10 random numbers between 10 and 30; Find**\n",
        "---\n",
        "### **(i) Common numbers in the two lists**\n"
      ],
      "metadata": {
        "id": "0wmuPUI57UwE"
      },
      "id": "0wmuPUI57UwE"
    },
    {
      "cell_type": "code",
      "execution_count": 36,
      "id": "77c7e63b",
      "metadata": {
        "id": "77c7e63b",
        "outputId": "ae9feccb-648a-4734-b948-2cb96d787aac",
        "colab": {
          "base_uri": "https://localhost:8080/"
        }
      },
      "outputs": [
        {
          "output_type": "stream",
          "name": "stdout",
          "text": [
            "List 1: [26, 18, 30, 26, 23, 17, 24, 16, 12, 26]\n",
            "List 2: [12, 20, 15, 26, 20, 22, 18, 22, 13, 24]\n",
            "Common numbers: [24, 18, 26, 12]\n"
          ]
        }
      ],
      "source": [
        "import random\n",
        "def generate_random_numbers(start, end, count):\n",
        "    return [random.randint(start, end) for _ in range(count)]\n",
        "def find_common_numbers(list1, list2):\n",
        "    return list(set(list1) & set(list2))\n",
        "list1 = generate_random_numbers(10, 30, 10)\n",
        "list2 = generate_random_numbers(10, 30, 10)\n",
        "common_numbers = find_common_numbers(list1, list2)\n",
        "print(\"List 1:\", list1)\n",
        "print(\"List 2:\", list2)\n",
        "print(\"Common numbers:\", common_numbers)"
      ]
    },
    {
      "cell_type": "markdown",
      "source": [
        "---\n",
        "### **(ii) Unique numbers in both the list**\n",
        "---"
      ],
      "metadata": {
        "id": "ygcBkipY71iH"
      },
      "id": "ygcBkipY71iH"
    },
    {
      "cell_type": "code",
      "execution_count": 37,
      "id": "8e3f4ecd",
      "metadata": {
        "id": "8e3f4ecd",
        "outputId": "0830a4fe-1849-4324-ff4c-9ba861e2035f",
        "colab": {
          "base_uri": "https://localhost:8080/"
        }
      },
      "outputs": [
        {
          "output_type": "stream",
          "name": "stdout",
          "text": [
            "List 1: [20, 15, 30, 24, 17, 29, 15, 30, 17, 23]\n",
            "List 2: [25, 10, 12, 12, 11, 23, 15, 20, 28, 21]\n",
            "Unique numbers in List 1: [24, 17, 29, 30]\n",
            "Unique numbers in List 2: [10, 11, 12, 21, 25, 28]\n"
          ]
        }
      ],
      "source": [
        "import random\n",
        "def generate_random_numbers(start, end, count):\n",
        "    return [random.randint(start, end) for _ in range(count)]\n",
        "def find_unique_numbers(list1, list2):\n",
        "    unique_list1 = list(set(list1) - set(list2))\n",
        "    unique_list2 = list(set(list2) - set(list1))\n",
        "    return unique_list1, unique_list2\n",
        "list1 = generate_random_numbers(10, 30, 10)\n",
        "list2 = generate_random_numbers(10, 30, 10)\n",
        "unique_list1, unique_list2 = find_unique_numbers(list1, list2)\n",
        "print(\"List 1:\", list1)\n",
        "print(\"List 2:\", list2)\n",
        "print(\"Unique numbers in List 1:\", unique_list1)\n",
        "print(\"Unique numbers in List 2:\", unique_list2)"
      ]
    },
    {
      "cell_type": "markdown",
      "source": [
        "---\n",
        "### **(iii) Minimum in both the list**\n",
        "---"
      ],
      "metadata": {
        "id": "MGlYZ9zl8Xg6"
      },
      "id": "MGlYZ9zl8Xg6"
    },
    {
      "cell_type": "code",
      "execution_count": 38,
      "id": "0d25f978",
      "metadata": {
        "id": "0d25f978",
        "outputId": "ed97fc25-6836-4274-997e-67cb46ab1425",
        "colab": {
          "base_uri": "https://localhost:8080/"
        }
      },
      "outputs": [
        {
          "output_type": "stream",
          "name": "stdout",
          "text": [
            "List 1: [14, 11, 16, 21, 21, 10, 16, 28, 16, 29]\n",
            "List 2: [25, 16, 22, 25, 28, 16, 12, 20, 29, 25]\n",
            "Minimum value in List 1: 10\n",
            "Minimum value in List 2: 12\n"
          ]
        }
      ],
      "source": [
        "import random\n",
        "def generate_random_numbers(start, end, count):\n",
        "    return [random.randint(start, end) for _ in range(count)]\n",
        "def find_minimum(numbers):\n",
        "    return min(numbers)\n",
        "list1 = generate_random_numbers(10, 30, 10)\n",
        "list2 = generate_random_numbers(10, 30, 10)\n",
        "minimum1 = find_minimum(list1)\n",
        "minimum2 = find_minimum(list2)\n",
        "print(\"List 1:\", list1)\n",
        "print(\"List 2:\", list2)\n",
        "print(\"Minimum value in List 1:\", minimum1)\n",
        "print(\"Minimum value in List 2:\", minimum2)"
      ]
    },
    {
      "cell_type": "markdown",
      "source": [
        "---\n",
        "### **(iv) Maximum in both the list**\n",
        "---"
      ],
      "metadata": {
        "id": "xA6j-T6b8t3_"
      },
      "id": "xA6j-T6b8t3_"
    },
    {
      "cell_type": "code",
      "execution_count": 39,
      "id": "a7a20f93",
      "metadata": {
        "id": "a7a20f93",
        "outputId": "ea6723ac-90f8-4c4d-f28d-f7981f5da209",
        "colab": {
          "base_uri": "https://localhost:8080/"
        }
      },
      "outputs": [
        {
          "output_type": "stream",
          "name": "stdout",
          "text": [
            "List 1: [15, 25, 21, 11, 30, 17, 11, 29, 22, 26]\n",
            "List 2: [23, 26, 23, 17, 14, 16, 27, 18, 23, 10]\n",
            "Maximum value in List 1: 30\n",
            "Maximum value in List 2: 27\n"
          ]
        }
      ],
      "source": [
        "import random\n",
        "def generate_random_numbers(start, end, count):\n",
        "    return [random.randint(start, end) for _ in range(count)]\n",
        "def find_maximum(numbers):\n",
        "    return max(numbers)\n",
        "list1 = generate_random_numbers(10, 30, 10)\n",
        "list2 = generate_random_numbers(10, 30, 10)\n",
        "maximum1 = find_maximum(list1)\n",
        "maximum2 = find_maximum(list2)\n",
        "print(\"List 1:\", list1)\n",
        "print(\"List 2:\", list2)\n",
        "print(\"Maximum value in List 1:\", maximum1)\n",
        "print(\"Maximum value in List 2:\", maximum2)"
      ]
    },
    {
      "cell_type": "markdown",
      "source": [
        "---\n",
        "### **(v) Sum of both the lists**\n",
        "---"
      ],
      "metadata": {
        "id": "iDAHSt0n88wN"
      },
      "id": "iDAHSt0n88wN"
    },
    {
      "cell_type": "code",
      "execution_count": 40,
      "id": "2581fa07",
      "metadata": {
        "id": "2581fa07",
        "outputId": "0291a0b7-4b5c-4306-bf76-11ca3d05be9c",
        "colab": {
          "base_uri": "https://localhost:8080/"
        }
      },
      "outputs": [
        {
          "output_type": "stream",
          "name": "stdout",
          "text": [
            "List 1: [22, 28, 25, 27, 22, 27, 29, 21, 26, 30]\n",
            "List 2: [26, 21, 11, 10, 10, 30, 12, 17, 20, 19]\n",
            "Sum of List 1: 257\n",
            "Sum of List 2: 176\n"
          ]
        }
      ],
      "source": [
        "import random\n",
        "def generate_random_numbers(start, end, count):\n",
        "    return [random.randint(start, end) for _ in range(count)]\n",
        "def find_sum(numbers):\n",
        "    return sum(numbers)\n",
        "list1 = generate_random_numbers(10, 30, 10)\n",
        "list2 = generate_random_numbers(10, 30, 10)\n",
        "sum1 = find_sum(list1)\n",
        "sum2 = find_sum(list2)\n",
        "print(\"List 1:\", list1)\n",
        "print(\"List 2:\", list2)\n",
        "print(\"Sum of List 1:\", sum1)\n",
        "print(\"Sum of List 2:\", sum2)"
      ]
    },
    {
      "cell_type": "markdown",
      "source": [
        "---\n",
        "# **Q6. WAP to create a list of 100 random numbers between 100 and 900. Count and print the:**\n",
        "---\n",
        "### **(i) All odd numbers**"
      ],
      "metadata": {
        "id": "Tmqh0rSW9Jpa"
      },
      "id": "Tmqh0rSW9Jpa"
    },
    {
      "cell_type": "code",
      "execution_count": 41,
      "id": "28039427",
      "metadata": {
        "id": "28039427",
        "outputId": "52eb83f7-5df1-4c51-e221-5d3769efce78",
        "colab": {
          "base_uri": "https://localhost:8080/"
        }
      },
      "outputs": [
        {
          "output_type": "stream",
          "name": "stdout",
          "text": [
            "Odd numbers: [113, 199, 239, 481, 315, 787, 157, 231, 541, 807, 275, 257, 883, 227, 645, 105, 767, 713, 105, 549, 691, 171, 645, 177, 773, 247, 795, 705, 539, 303, 707, 525, 413, 739, 335, 415, 411, 143, 469, 567, 195, 169, 471, 425, 405, 445, 767]\n",
            "Count of odd numbers: 47\n"
          ]
        }
      ],
      "source": [
        "import random\n",
        "def generate_random_numbers(start, end, count):\n",
        "    return [random.randint(start, end) for _ in range(count)]\n",
        "def count_and_print_odd_numbers(numbers):\n",
        "    odd_numbers = [num for num in numbers if num % 2 != 0]\n",
        "    count = len(odd_numbers)\n",
        "    print(\"Odd numbers:\", odd_numbers)\n",
        "    print(\"Count of odd numbers:\", count)\n",
        "numbers = generate_random_numbers(100, 900, 100)\n",
        "count_and_print_odd_numbers(numbers)"
      ]
    },
    {
      "cell_type": "markdown",
      "source": [
        "---\n",
        "### **(ii) All even numbers**\n",
        "---"
      ],
      "metadata": {
        "id": "iH6yi5eT9oia"
      },
      "id": "iH6yi5eT9oia"
    },
    {
      "cell_type": "code",
      "execution_count": 42,
      "id": "d34d4827",
      "metadata": {
        "id": "d34d4827",
        "outputId": "b0b1f121-1f28-4335-8e21-833f78a0f292",
        "colab": {
          "base_uri": "https://localhost:8080/"
        }
      },
      "outputs": [
        {
          "output_type": "stream",
          "name": "stdout",
          "text": [
            "Even numbers: [164, 342, 232, 638, 852, 448, 468, 636, 780, 568, 840, 678, 134, 592, 544, 452, 556, 848, 882, 262, 366, 148, 426, 390, 866, 318, 366, 114, 858, 480, 140, 886, 228, 176, 272, 848, 348, 900, 224, 548, 234, 566, 326, 316, 174, 396, 696, 132, 618, 890, 328, 692]\n",
            "Count of even numbers: 52\n"
          ]
        }
      ],
      "source": [
        "import random\n",
        "def generate_random_numbers(start, end, count):\n",
        "    return [random.randint(start, end) for _ in range(count)]\n",
        "def count_and_print_even_numbers(numbers):\n",
        "    even_numbers = [num for num in numbers if num % 2 == 0]\n",
        "    count = len(even_numbers)\n",
        "    print(\"Even numbers:\", even_numbers)\n",
        "    print(\"Count of even numbers:\", count)\n",
        "numbers = generate_random_numbers(100, 900, 100)\n",
        "count_and_print_even_numbers(numbers)"
      ]
    },
    {
      "cell_type": "markdown",
      "source": [
        "---\n",
        "### **(iii) All prime numbers**\n",
        "---"
      ],
      "metadata": {
        "id": "Bylo5fV79e5q"
      },
      "id": "Bylo5fV79e5q"
    },
    {
      "cell_type": "code",
      "execution_count": 1,
      "id": "08046a2f",
      "metadata": {
        "id": "08046a2f",
        "outputId": "43f038b8-f23b-409e-9dd5-502104c80912",
        "colab": {
          "base_uri": "https://localhost:8080/"
        }
      },
      "outputs": [
        {
          "output_type": "stream",
          "name": "stdout",
          "text": [
            "Prime numbers: [137, 431, 173, 419, 307, 673, 227, 199, 277, 233, 151]\n",
            "Count of prime numbers: 11\n"
          ]
        }
      ],
      "source": [
        "import random\n",
        "def generate_random_numbers(start, end, count):\n",
        "    return [random.randint(start, end) for _ in range(count)]\n",
        "def is_prime(number):\n",
        "    if number < 2:\n",
        "        return False\n",
        "    for i in range(2, int(number**0.5) + 1):\n",
        "        if number % i == 0:\n",
        "            return False\n",
        "    return True\n",
        "def count_and_print_prime_numbers(numbers):\n",
        "    prime_numbers = [num for num in numbers if is_prime(num)]\n",
        "    count = len(prime_numbers)\n",
        "    print(\"Prime numbers:\", prime_numbers)\n",
        "    print(\"Count of prime numbers:\", count)\n",
        "numbers = generate_random_numbers(100, 900, 100)\n",
        "count_and_print_prime_numbers(numbers)"
      ]
    },
    {
      "cell_type": "markdown",
      "source": [
        "---\n",
        "# **Q7. D is a dictionary defined as D={1:\"One\",2:\"Two\",3:\"Three\",4:\"Four\", 5:\"Five\"}. WAP to read all the keys and values from dictionary and write to the file in the given below format.**\n",
        "---"
      ],
      "metadata": {
        "id": "0wIq0Uq9-KGN"
      },
      "id": "0wIq0Uq9-KGN"
    },
    {
      "cell_type": "code",
      "source": [
        "D = {1: \"One\", 2: \"Two\", 3: \"Three\", 4: \"Four\", 5: \"Five\"}\n",
        "with open(\"dictionary.txt\", \"w\") as file:\n",
        "    for key, value in D.items():\n",
        "        file.write(f\"{key}, {value}\\n\")"
      ],
      "metadata": {
        "id": "dPBTkcAvj3A6"
      },
      "id": "dPBTkcAvj3A6",
      "execution_count": 2,
      "outputs": []
    },
    {
      "cell_type": "markdown",
      "source": [
        "---\n",
        "# **Q8. L is a list defined as L={\"One\",\"Two\",\"Three\",\"Four\",\"Five\"}.WAP to count the length of reach element from a list and write to the file in the given below format:**\n",
        "---"
      ],
      "metadata": {
        "id": "Th7qTznbGbP3"
      },
      "id": "Th7qTznbGbP3"
    },
    {
      "cell_type": "code",
      "source": [
        "L = [\"One\", \"Two\", \"Three\", \"Four\", \"Five\"]\n",
        "with open(\"element_lengths.txt\", \"w\") as file:\n",
        "    for element in L:\n",
        "        length = len(element)\n",
        "        file.write(f\"{element}: {length}\\n\")"
      ],
      "metadata": {
        "id": "m-Ps48GMCQJp"
      },
      "id": "m-Ps48GMCQJp",
      "execution_count": 4,
      "outputs": []
    },
    {
      "cell_type": "markdown",
      "source": [
        "---\n",
        "# **Q9. Write to the file 100 random strings whose length between 10 and 15.**\n",
        "---"
      ],
      "metadata": {
        "id": "BxThRY-6GxDb"
      },
      "id": "BxThRY-6GxDb"
    },
    {
      "cell_type": "code",
      "source": [
        "import random\n",
        "import string\n",
        "def generate_random_string(length):\n",
        "    return ''.join(random.choices(string.ascii_letters + string.digits, k=length))\n",
        "random_strings = [generate_random_string(random.randint(10, 15)) for _ in range(100)]\n",
        "with open(\"random_strings.txt\", \"w\") as file:\n",
        "    for string in random_strings:\n",
        "        file.write(string + \"\\n\")"
      ],
      "metadata": {
        "id": "DGrpftmdBzgY"
      },
      "id": "DGrpftmdBzgY",
      "execution_count": 3,
      "outputs": []
    },
    {
      "cell_type": "markdown",
      "source": [
        "---\n",
        "# **Q10. Write to the file all prime numbers between 600 and 800.**\n",
        "---"
      ],
      "metadata": {
        "id": "mT3a8jk-G7cW"
      },
      "id": "mT3a8jk-G7cW"
    },
    {
      "cell_type": "code",
      "source": [
        "def is_prime(num):\n",
        "    if num < 2:\n",
        "        return False\n",
        "    for i in range(2, int(num**0.5) + 1):\n",
        "        if num % i == 0:\n",
        "            return False\n",
        "    return True\n",
        "with open(\"prime_numbers.txt\", \"w\") as file:\n",
        "    for num in range(600, 801):\n",
        "        if is_prime(num):\n",
        "            file.write(str(num) + \"\\n\")"
      ],
      "metadata": {
        "id": "IyEieL2ADFUv"
      },
      "id": "IyEieL2ADFUv",
      "execution_count": 5,
      "outputs": []
    },
    {
      "cell_type": "markdown",
      "source": [
        "---\n",
        "# **Q11. WAP to calculate the time taken by a program.**\n",
        "---\n"
      ],
      "metadata": {
        "id": "mr0L3MntHFmf"
      },
      "id": "mr0L3MntHFmf"
    },
    {
      "cell_type": "code",
      "execution_count": 11,
      "id": "e27af3a4",
      "metadata": {
        "id": "e27af3a4",
        "outputId": "88042330-783d-4463-f42c-1f8431f5119d",
        "colab": {
          "base_uri": "https://localhost:8080/"
        }
      },
      "outputs": [
        {
          "output_type": "stream",
          "name": "stdout",
          "text": [
            "Elapsed time: 3.504753112792969e-05 seconds\n"
          ]
        }
      ],
      "source": [
        "import time\n",
        "# Start the timer\n",
        "start_time = time.time()\n",
        "# Your program code here\n",
        "# ...\n",
        "\n",
        "# Stop the timer\n",
        "end_time = time.time()\n",
        "# Calculate the elapsed time\n",
        "elapsed_time = end_time - start_time\n",
        "# Print the elapsed time\n",
        "print(\"Elapsed time:\", elapsed_time, \"seconds\")"
      ]
    },
    {
      "cell_type": "markdown",
      "source": [
        "---\n",
        "# **Q12. WAP to sort following number of elements in a list, calculate time taken and plot the graph. Number of elements in list=5k ,10k ,15k ,20k ,25k**\n",
        "---"
      ],
      "metadata": {
        "id": "_DA6akbPHPTX"
      },
      "id": "_DA6akbPHPTX"
    },
    {
      "cell_type": "code",
      "source": [
        "import time\n",
        "import matplotlib.pyplot as plt\n",
        "def sort_list(elements):\n",
        "    start_time = time.time()\n",
        "    sorted_elements = sorted(elements)\n",
        "    end_time = time.time()\n",
        "    elapsed_time = end_time - start_time\n",
        "    return sorted_elements, elapsed_time\n",
        "num_elements = [5000, 10000, 15000, 20000, 25000]\n",
        "elapsed_times = []\n",
        "for num in num_elements:\n",
        "    elements = list(range(num, 0, -1))\n",
        "    _, elapsed_time = sort_list(elements)\n",
        "    elapsed_times.append(elapsed_time)\n",
        "    print(f\"Number of elements: {num}, Elapsed time: {elapsed_time:.6f} seconds\")\n",
        "plt.plot(num_elements, elapsed_times)\n",
        "plt.xlabel(\"Number of Elements\")\n",
        "plt.ylabel(\"Elapsed Time (seconds)\")\n",
        "plt.title(\"Sorting Time\")\n",
        "plt.show()"
      ],
      "metadata": {
        "colab": {
          "base_uri": "https://localhost:8080/",
          "height": 559
        },
        "id": "mU_XqNuSFE6C",
        "outputId": "3ccd9b39-06ba-4a42-dee8-f876fa0f0b78"
      },
      "id": "mU_XqNuSFE6C",
      "execution_count": 15,
      "outputs": [
        {
          "output_type": "stream",
          "name": "stdout",
          "text": [
            "Number of elements: 5000, Elapsed time: 0.000072 seconds\n",
            "Number of elements: 10000, Elapsed time: 0.000140 seconds\n",
            "Number of elements: 15000, Elapsed time: 0.000203 seconds\n",
            "Number of elements: 20000, Elapsed time: 0.000231 seconds\n",
            "Number of elements: 25000, Elapsed time: 0.000346 seconds\n"
          ]
        },
        {
          "output_type": "display_data",
          "data": {
            "text/plain": [
              "<Figure size 640x480 with 1 Axes>"
            ],
            "image/png": "[encoded data removed]"
          },
          "metadata": {}
        }
      ]
    },
    {
      "cell_type": "markdown",
      "source": [
        "---\n",
        "# **Q13. WAP to create a dictionary of student marks in five subjects and you have to find the student having maximum and minimum average marks.**\n",
        "---"
      ],
      "metadata": {
        "id": "ksZQbzJhIE6P"
      },
      "id": "ksZQbzJhIE6P"
    },
    {
      "cell_type": "code",
      "source": [
        "def calculate_average(marks):\n",
        "    total = sum(marks)\n",
        "    return total / len(marks)\n",
        "student_marks = {\n",
        "    \"Rahul\": [85, 90, 92, 88, 95],\n",
        "    \"Anjali\": [78, 85, 90, 92, 80],\n",
        "    \"Naina\": [92, 88, 95, 90, 85],\n",
        "    \"Bunny\": [80, 82, 75, 88, 90],\n",
        "    \"Aditi\": [90, 85, 92, 78, 88]\n",
        "}\n",
        "average_marks = {student: calculate_average(marks) for student, marks in student_marks.items()}\n",
        "max_student = max(average_marks, key=average_marks.get)\n",
        "max_average = average_marks[max_student]\n",
        "min_student = min(average_marks, key=average_marks.get)\n",
        "min_average = average_marks[min_student]\n",
        "print(\"Student with maximum average marks:\")\n",
        "print(\"Name:\", max_student)\n",
        "print(\"Average Marks:\", max_average)\n",
        "print()\n",
        "print(\"Student with minimum average marks:\")\n",
        "print(\"Name:\", min_student)\n",
        "print(\"Average Marks:\", min_average)\n"
      ],
      "metadata": {
        "colab": {
          "base_uri": "https://localhost:8080/"
        },
        "id": "kji78PHOFtCZ",
        "outputId": "858944d4-a24f-4358-a161-ff4b0abc0f9b"
      },
      "id": "kji78PHOFtCZ",
      "execution_count": 16,
      "outputs": [
        {
          "output_type": "stream",
          "name": "stdout",
          "text": [
            "Student with maximum average marks:\n",
            "Name: Rahul\n",
            "Average Marks: 90.0\n",
            "\n",
            "Student with minimum average marks:\n",
            "Name: Bunny\n",
            "Average Marks: 83.0\n"
          ]
        }
      ]
    }
  ],
  "metadata": {
    "kernelspec": {
      "display_name": "Python 3 (ipykernel)",
      "language": "python",
      "name": "python3"
    },
    "language_info": {
      "codemirror_mode": {
        "name": "ipython",
        "version": 3
      },
      "file_extension": ".py",
      "mimetype": "text/x-python",
      "name": "python",
      "nbconvert_exporter": "python",
      "pygments_lexer": "ipython3",
      "version": "3.10.9"
    },
    "colab": {
      "provenance": [],
      "include_colab_link": true
    }
  },
  "nbformat": 4,
  "nbformat_minor": 5
}